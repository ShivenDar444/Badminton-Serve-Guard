{
 "cells": [
  {
   "cell_type": "markdown",
   "id": "ff1abf64",
   "metadata": {},
   "source": [
    "# Badminton Serve Fault Detector"
   ]
  },
  {
   "cell_type": "code",
   "execution_count": 28,
   "id": "c63bdf03",
   "metadata": {},
   "outputs": [],
   "source": [
    "import mediapipe as mp \n",
    "import os \n",
    "import uuid #name our image\n",
    "import cv2 \n",
    "import numpy as np \n",
    "from matplotlib import pyplot as plt \n",
    "import pygame\n",
    "\n",
    "# Initialize Pygame mixer for audio\n",
    "pygame.mixer.init()\n",
    "alarm_sound = pygame.mixer.Sound(\"fart-01.wav\")\n",
    "mp_drawing=mp.solutions.drawing_utils\n",
    "mp_pose=mp.solutions.pose"
   ]
  },
  {
   "cell_type": "code",
   "execution_count": 9,
   "id": "4f3ae37e",
   "metadata": {},
   "outputs": [],
   "source": [
    "def draw_angles(a,b,c): \n",
    "    #loop through diff hands \n",
    "    \n",
    "             \n",
    "    radians=np.arctan2(c[1]-b[1],c[0]-b[0])-np.arctan2(a[1]-b[1],a[0]-b[0]) \n",
    "    angle=np.abs(radians*180.0/np.pi) \n",
    "    if angle>180: \n",
    "        angle=360-180 \n",
    "   \n",
    "    return angle     "
   ]
  },
  {
   "cell_type": "code",
   "execution_count": 29,
   "id": "5e1d8af9",
   "metadata": {},
   "outputs": [],
   "source": [
    "def draw_angles(a, b, c):\n",
    "    # Calculate angles in left quadrants\n",
    "    \n",
    "    radians = np.arctan2(c[1] - b[1], c[0] - b[0]) - np.arctan2(a[1] - b[1], a[0] - b[0])\n",
    "    angle = np.degrees(radians)\n",
    "    \n",
    "    if angle < 0:\n",
    "        angle += 360\n",
    "    \n",
    "    return angle\n"
   ]
  },
  {
   "cell_type": "code",
   "execution_count": null,
   "id": "5b14a1ce",
   "metadata": {},
   "outputs": [],
   "source": [
    "def check_hand_position(l):\n",
    "    hip_y = pose_landmarks[mp_pose.PoseLandmark.LEFT_HIP.value].y\n",
    "    wrist_y = hand_landmarks.landmark[mp_hands.HandLandmark.WRIST].y\n",
    "    return wrist_y > waist_y"
   ]
  },
  {
   "cell_type": "code",
   "execution_count": 36,
   "id": "4c0ea8a2",
   "metadata": {},
   "outputs": [],
   "source": [
    "# VIDEO FEED \n",
    "cap = cv2.VideoCapture(0)  \n",
    "# curl counter \n",
    "counter = 0 \n",
    "stage = None  # play or fault\n",
    "with mp_pose.Pose(min_detection_confidence=0.5, min_tracking_confidence=0.5) as pose:\n",
    "    while cap.isOpened(): \n",
    "        ret, frame = cap.read() \n",
    "        # Detect stuff and render \n",
    "        # Convert BGR to RGB\n",
    "        image = cv2.cvtColor(frame, cv2.COLOR_BGR2RGB)\n",
    "\n",
    "        # Flip horizontally\n",
    "        image = cv2.flip(image, 1)\n",
    "\n",
    "        # Set writeable flag to False\n",
    "        image.flags.writeable = False\n",
    "\n",
    "        # Process detections\n",
    "        results = pose.process(image)\n",
    "\n",
    "        # Set writeable flag to True\n",
    "        image.flags.writeable = True\n",
    "\n",
    "        # Convert RGB back to BGR\n",
    "        image = cv2.cvtColor(image, cv2.COLOR_RGB2BGR) \n",
    "        # Extract landmarks \n",
    "        try: \n",
    "            landmarks = results.pose_landmarks.landmark \n",
    "            shoulder = [landmarks[mp_pose.PoseLandmark.LEFT_SHOULDER.value].x, landmarks[mp_pose.PoseLandmark.LEFT_SHOULDER.value].y]  \n",
    "            elbow = [landmarks[mp_pose.PoseLandmark.LEFT_ELBOW.value].x, landmarks[mp_pose.PoseLandmark.LEFT_ELBOW.value].y]  \n",
    "            wrist = [landmarks[mp_pose.PoseLandmark.LEFT_WRIST.value].x, landmarks[mp_pose.PoseLandmark.LEFT_WRIST.value].y]  \n",
    "            lthumb = [landmarks[mp_pose.PoseLandmark.LEFT_THUMB.value].x, landmarks[mp_pose.PoseLandmark.LEFT_THUMB.value].y]\n",
    "             \n",
    "            # Calculate angle \n",
    "            elbow_angle = draw_angles(shoulder, elbow, wrist) \n",
    "            wrist_angle = draw_angles(elbow, wrist, lthumb)\n",
    "            if elbow_angle >= 0 and elbow_angle <= 180: \n",
    "                stage = \"READY\"\n",
    "            if elbow_angle > 180: \n",
    "                stage = \"PLAY\" \n",
    "                if wrist_angle>227: \n",
    "                    stage=\"FAULT\" \n",
    "                    alarm_sound.play()\n",
    "            if elbow_angle > 235 and stage == \"PLAY\": \n",
    "                stage = \"FAULT!\" \n",
    "                alarm_sound.play()\n",
    "                \n",
    "            # Visualize \n",
    "            cv2.putText(image, str(round(elbow_angle, 2)), tuple(np.multiply(elbow, [640, 480]).astype(int)), cv2.FONT_HERSHEY_SIMPLEX, 0.5, (16, 255, 16), 2, cv2.LINE_AA)\n",
    "            cv2.putText(image, str(round(wrist_angle, 2)), tuple(np.multiply(wrist, [640, 480]).astype(int)), cv2.FONT_HERSHEY_SIMPLEX, 0.5, (16, 255, 16), 2, cv2.LINE_AA)\n",
    "         \n",
    "        except: \n",
    "            pass \n",
    "        # Setup status box \n",
    "        cv2.rectangle(image, (0, 0), (326, 73), (16, 117, 255), -1)  # (img,start,end,colour,-1 is box is coloured)   \n",
    "        # Stage data \n",
    "        cv2.putText(image, \"STAGE\", (105, 12), cv2.FONT_HERSHEY_SIMPLEX, 0.5, (0, 0, 0), 1, cv2.LINE_AA) \n",
    "        cv2.putText(image, stage, (100, 60), cv2.FONT_HERSHEY_COMPLEX, 2, (255, 255, 255), 2, cv2.LINE_AA) \n",
    "        \n",
    "        # Render detections \n",
    "        mp_drawing.draw_landmarks(image, results.pose_landmarks, mp_pose.POSE_CONNECTIONS, \n",
    "                                  mp_drawing.DrawingSpec(color=(121, 22, 76), thickness=2, circle_radius=4), \n",
    "                                  mp_drawing.DrawingSpec(color=(250, 44, 250), thickness=2, circle_radius=2)) \n",
    "        cv2.imshow('Mediapipe Feed', image)\n",
    "        if cv2.waitKey(10) & 0xFF == ord('e'): \n",
    "            break \n",
    "cap.release()\n",
    "cv2.destroyAllWindows()\n"
   ]
  },
  {
   "cell_type": "code",
   "execution_count": null,
   "id": "0063bf2c",
   "metadata": {},
   "outputs": [],
   "source": [
    "\n"
   ]
  }
 ],
 "metadata": {
  "kernelspec": {
   "display_name": "Python 3 (ipykernel)",
   "language": "python",
   "name": "python3"
  },
  "language_info": {
   "codemirror_mode": {
    "name": "ipython",
    "version": 3
   },
   "file_extension": ".py",
   "mimetype": "text/x-python",
   "name": "python",
   "nbconvert_exporter": "python",
   "pygments_lexer": "ipython3",
   "version": "3.11.4"
  }
 },
 "nbformat": 4,
 "nbformat_minor": 5
}
